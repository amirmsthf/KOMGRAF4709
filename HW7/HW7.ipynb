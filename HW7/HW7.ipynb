{
  "metadata": {
    "kernelspec": {
      "name": "python",
      "display_name": "Python (Pyodide)",
      "language": "python"
    },
    "language_info": {
      "codemirror_mode": {
        "name": "python",
        "version": 3
      },
      "file_extension": ".py",
      "mimetype": "text/x-python",
      "name": "python",
      "nbconvert_exporter": "python",
      "pygments_lexer": "ipython3",
      "version": "3.8"
    },
    "colab": {
      "provenance": [],
      "authorship_tag": "ABX9TyOr0vfEFsU2jSh4sxOS+RAh"
    }
  },
  "nbformat_minor": 4,
  "nbformat": 4,
  "cells": [
    {
      "cell_type": "markdown",
      "source": "REFLEKSI TERHADAP SUMBU X",
      "metadata": {
        "id": "tBg8qGGol4dV"
      }
    },
    {
      "cell_type": "code",
      "source": "import numpy as np\n\ndef reflection_matrix_x():\n    \"\"\"\n    Mengembalikan matriks transformasi untuk refleksi terhadap sumbu x.\n    \"\"\"\n    return np.array([\n        [1, 0, 0],\n        [0, -1, 0],\n        [0, 0, 1]\n    ])\n\ndef apply_transformation(matrix, vector):\n    \"\"\"\n    Mengalikan matriks transformasi dengan vektor.\n    \"\"\"\n    return np.dot(matrix, vector)\n\n# Contoh penggunaan:\n# Misalnya kita punya vektor [x, y, z]\nvector = np.array([2, 3, 1])\n\n# Dapatkan matriks transformasi refleksi terhadap sumbu x\nreflection_matrix = reflection_matrix_x()\n\n# Terapkan transformasi pada vektor\nresult_vector = apply_transformation(reflection_matrix, vector)\n\n# Output hasil transformasi\nprint(\"Vektor awal:\", vector)\nprint(\"Hasil transformasi:\", result_vector)\n",
      "metadata": {
        "colab": {
          "base_uri": "https://localhost:8080/"
        },
        "id": "tKo1-2srkRtY",
        "executionInfo": {
          "status": "ok",
          "timestamp": 1701253448364,
          "user_tz": -420,
          "elapsed": 590,
          "user": {
            "displayName": "Zahrah Asri Nur Fauzyah",
            "userId": "05370142287676326620"
          }
        },
        "outputId": "bb4cfbb0-5001-4064-f17c-190b68c18d36",
        "trusted": true
      },
      "outputs": [
        {
          "name": "stdout",
          "text": "Vektor awal: [2 3 1]\nHasil transformasi: [ 2 -3  1]\n",
          "output_type": "stream"
        }
      ],
      "execution_count": 2
    },
    {
      "cell_type": "markdown",
      "source": "REFLEKSI TERHADAP SUMBU Y",
      "metadata": {
        "id": "n4wBIQPzl25o"
      }
    },
    {
      "cell_type": "code",
      "source": "import numpy as np\n\ndef reflection_matrix_y():\n    \"\"\"\n    Mengembalikan matriks transformasi untuk refleksi terhadap sumbu y.\n    \"\"\"\n    return np.array([\n        [-1, 0, 0],\n        [0, 1, 0],\n        [0, 0, 1]\n    ])\n\ndef apply_transformation(matrix, vector):\n    \"\"\"\n    Mengalikan matriks transformasi dengan vektor.\n    \"\"\"\n    return np.dot(matrix, vector)\n\n# Contoh penggunaan:\n# Misalnya kita punya vektor [x, y, z]\nvector = np.array([2, 3, 1])\n\n# Dapatkan matriks transformasi refleksi terhadap sumbu y\nreflection_matrix = reflection_matrix_y()\n\n# Terapkan transformasi pada vektor\nresult_vector = apply_transformation(reflection_matrix, vector)\n\n# Output hasil transformasi\nprint(\"Vektor awal:\", vector)\nprint(\"Hasil transformasi:\", result_vector)\n",
      "metadata": {
        "colab": {
          "base_uri": "https://localhost:8080/"
        },
        "id": "9-CrsBnznR-e",
        "executionInfo": {
          "status": "ok",
          "timestamp": 1701253561477,
          "user_tz": -420,
          "elapsed": 470,
          "user": {
            "displayName": "Zahrah Asri Nur Fauzyah",
            "userId": "05370142287676326620"
          }
        },
        "outputId": "55b45687-c975-4490-cf9b-ba2bfdab2e2d",
        "trusted": true
      },
      "outputs": [],
      "execution_count": null
    },
    {
      "cell_type": "markdown",
      "source": "REFLEKSI TERHADAP SUMBU XY",
      "metadata": {
        "id": "Yq_UAp2SpUoo"
      }
    },
    {
      "cell_type": "code",
      "source": "import numpy as np\n\ndef reflection_matrix_x():\n    \"\"\"\n    Mengembalikan matriks transformasi untuk refleksi terhadap sumbu x.\n    \"\"\"\n    return np.array([\n        [-1, 0, 0],\n        [0, -1, 0],\n        [0, 0, 1]\n    ])\n\ndef apply_transformation(matrix, vector):\n    \"\"\"\n    Mengalikan matriks transformasi dengan vektor.\n    \"\"\"\n    return np.dot(matrix, vector)\n\n# Contoh penggunaan:\n# Misalnya kita punya vektor [x, y, z]\nvector = np.array([2, 3, 1])\n\n# Dapatkan matriks transformasi refleksi terhadap sumbu x\nreflection_matrix = reflection_matrix_x()\n\n# Terapkan transformasi pada vektor\nresult_vector = apply_transformation(reflection_matrix, vector)\n\n# Output hasil transformasi\nprint(\"Vektor awal:\", vector)\nprint(\"Hasil transformasi:\", result_vector)\n",
      "metadata": {
        "colab": {
          "base_uri": "https://localhost:8080/"
        },
        "id": "K_P2Ynaipbfx",
        "executionInfo": {
          "status": "ok",
          "timestamp": 1701254168438,
          "user_tz": -420,
          "elapsed": 450,
          "user": {
            "displayName": "Zahrah Asri Nur Fauzyah",
            "userId": "05370142287676326620"
          }
        },
        "outputId": "76d8646e-80fb-4784-f5fc-53d1efe16fa8",
        "trusted": true
      },
      "outputs": [],
      "execution_count": null
    },
    {
      "cell_type": "markdown",
      "source": "MATRIKS TRANSFORMASI KOMPOSIT TRANSLASI THD SUMBU X, Y DAN XY",
      "metadata": {
        "id": "xe5uHXCipteP"
      }
    },
    {
      "cell_type": "code",
      "source": "import numpy as np\n\ndef translation_matrix(tx, ty):\n    \"\"\"\n    Mengembalikan matriks transformasi untuk translasi.\n    \"\"\"\n    return np.array([\n        [1, 0, tx],\n        [0, 1, ty],\n        [0, 0, 1]\n    ])\n\ndef reflection_matrix_x():\n    \"\"\"\n    Mengembalikan matriks transformasi untuk refleksi terhadap sumbu x.\n    \"\"\"\n    return np.array([\n        [1, 0, 0],\n        [0, -1, 0],\n        [0, 0, 1]\n    ])\n\ndef reflection_matrix_y():\n    \"\"\"\n    Mengembalikan matriks transformasi untuk refleksi terhadap sumbu y.\n    \"\"\"\n    return np.array([\n        [-1, 0, 0],\n        [0, 1, 0],\n        [0, 0, 1]\n    ])\n\ndef reflection_matrix_xy():\n    \"\"\"\n    Mengembalikan matriks transformasi untuk refleksi terhadap sumbu xy.\n    \"\"\"\n    return np.array([\n        [-1, 0, 0],\n        [0, -1, 0],\n        [0, 0, 1]\n    ])\n\ndef combine_and_reflect(matrix1, matrix2):\n    \"\"\"\n    Menggabungkan dua matriks transformasi translasi dan kemudian merefleksikannya terhadap sumbu x.\n    \"\"\"\n    combined_matrix = np.dot(matrix2, matrix1)\n    reflection_matrix = reflection_matrix_x()\n    result_matrix = np.dot(reflection_matrix, combined_matrix)\n    return result_matrix\n\ndef combine_and_reflect2(matrix1, matrix2):\n    \"\"\"\n    Menggabungkan dua matriks transformasi translasi dan kemudian merefleksikannya terhadap sumbu y.\n    \"\"\"\n    combined_matrix2 = np.dot(matrix2, matrix1)\n    reflection_matrix2 = reflection_matrix_y()\n    result_matrix = np.dot(reflection_matrix2, combined_matrix2)\n    return result_matrix\n\ndef combine_and_reflect3(matrix1, matrix2):\n    \"\"\"\n    Menggabungkan dua matriks transformasi translasi dan kemudian merefleksikannya terhadap sumbu xy.\n    \"\"\"\n    combined_matrix3 = np.dot(matrix2, matrix1)\n    reflection_matrix3 = reflection_matrix_xy()\n    result_matrix = np.dot(reflection_matrix3, combined_matrix3)\n    return result_matrix\n\ndef apply_transformation(matrix, vector):\n    \"\"\"\n    Mengalikan matriks transformasi dengan vektor.\n    \"\"\"\n    #Menambahkan koordinat homogen ke vektor\n    vector_homogeneous = np.append(vector, 1)\n\n    #Melakukan perkalian matriks transformasi dengan vektor homogen\n    result_homogeneous = np.dot(matrix, vector_homogeneous)\n\n    #Menghapus koordinat homogen dari hasil\n    result_vector = result_homogeneous[:-1]\n\n    return result_vector\n\n#tx, ty\ntx1, ty1 = 2, 3\ntx2, ty2 = 1, 2\n\n#matriks transformasi translasi\ntranslation_matrix1 = translation_matrix(tx1, ty1)\ntranslation_matrix2 = translation_matrix(tx2, ty2)\ntranslation_matrix3 = translation_matrix(tx1, ty1)\n\n#penggabungan dua matriks transformasi translasi thd sumbu x, y dan z\ncombined_translation_matrix = combine_and_reflect(translation_matrix1, translation_matrix2)\ncombined_translation_matrix2 = combine_and_reflect2(translation_matrix1, translation_matrix2)\ncombined_translation_matrix3 = combine_and_reflect3(translation_matrix1, translation_matrix2)\n\n#vektor (x,y)\nvector = np.array([2, 3])\n\n#transformasi pada vektor\nresult_vector = apply_transformation(combined_translation_matrix, vector)\nresult_vector2 = apply_transformation(combined_translation_matrix2, vector)\nresult_vector3 = apply_transformation(combined_translation_matrix3, vector)\n\n#Output hasil transformasi\nprint(\"Vektor awal:\", vector)\nprint(\"Hasil transformasi translasi dan refleksi terhadap sumbu x:\", result_vector)\nprint(\"Hasil transformasi translasi dan refleksi terhadap sumbu y:\", result_vector2)\nprint(\"Hasil transformasi translasi dan refleksi terhadap sumbu xy:\", result_vector3)\n",
      "metadata": {
        "colab": {
          "base_uri": "https://localhost:8080/"
        },
        "id": "TSjVwfB7p8ke",
        "executionInfo": {
          "status": "ok",
          "timestamp": 1701277688043,
          "user_tz": -420,
          "elapsed": 470,
          "user": {
            "displayName": "Zahrah Asri Nur Fauzyah",
            "userId": "05370142287676326620"
          }
        },
        "outputId": "1564a862-82e4-4be9-869e-b9a911217905",
        "trusted": true
      },
      "outputs": [],
      "execution_count": null
    },
    {
      "cell_type": "markdown",
      "source": "MATRIKS TRANSFORMASI KOMPOSIT SCALE THD SUMBU X, Y dan XY",
      "metadata": {
        "id": "_v8AD6PEr23I"
      }
    },
    {
      "cell_type": "code",
      "source": "import numpy as np\n\ndef scale_matrix(sx, sy):\n    \"\"\"\n    Mengembalikan matriks transformasi untuk skala.\n    \"\"\"\n    return np.array([\n        [sx, 0, 0],\n        [0, sy, 0],\n        [0, 0, 1]\n    ])\n\ndef reflection_matrix_x():\n    \"\"\"\n    Mengembalikan matriks transformasi untuk refleksi terhadap sumbu x.\n    \"\"\"\n    return np.array([\n        [1, 0, 0],\n        [0, -1, 0],\n        [0, 0, 1]\n    ])\n\ndef reflection_matrix_y():\n    \"\"\"\n    Mengembalikan matriks transformasi untuk refleksi terhadap sumbu y.\n    \"\"\"\n    return np.array([\n        [-1, 0, 0],\n        [0, 1, 0],\n        [0, 0, 1]\n    ])\n\ndef reflection_matrix_xy():\n    \"\"\"\n    Mengembalikan matriks transformasi untuk refleksi terhadap sumbu xy.\n    \"\"\"\n    return np.array([\n        [-1, 0, 0],\n        [0, -1, 0],\n        [0, 0, 1]\n    ])\n\ndef combine_scale_and_reflect(scale_matrix1, scale_matrix2):\n    \"\"\"\n    Menggabungkan dua matriks transformasi skala dan kemudian merefleksikannya terhadap sumbu x.\n    \"\"\"\n    combined_matrix = np.dot(scale_matrix2, scale_matrix1)\n    reflection_matrix = reflection_matrix_x()\n    result_matrix = np.dot(reflection_matrix, combined_matrix)\n    return result_matrix\n\ndef combine_scale_and_reflect2(scale_matrix1, scale_matrix2):\n    \"\"\"\n    Menggabungkan dua matriks transformasi skala dan kemudian merefleksikannya terhadap sumbu y.\n    \"\"\"\n    combined_matrix2 = np.dot(scale_matrix2, scale_matrix1)\n    reflection_matrix2 = reflection_matrix_y()\n    result_matrix = np.dot(reflection_matrix2, combined_matrix2)\n    return result_matrix\n\ndef combine_scale_and_reflect3(scale_matrix1, scale_matrix2):\n    \"\"\"\n    Menggabungkan dua matriks transformasi skala dan kemudian merefleksikannya terhadap sumbu xy.\n    \"\"\"\n    combined_matrix3 = np.dot(scale_matrix2, scale_matrix1)\n    reflection_matrix3 = reflection_matrix_xy()\n    result_matrix = np.dot(reflection_matrix3, combined_matrix3)\n    return result_matrix\n\ndef apply_transformation(matrix, vector):\n    \"\"\"\n    Mengalikan matriks transformasi dengan vektor.\n    \"\"\"\n    #Menambahkan koordinat homogen ke vektor\n    vector_homogeneous = np.append(vector, 1)\n\n    #Melakukan perkalian matriks transformasi dengan vektor homogen\n    result_homogeneous = np.dot(matrix, vector_homogeneous)\n\n    #Menghapus koordinat homogen dari hasil\n    result_vector = result_homogeneous[:-1]\n\n    return result_vector\n\n#skala\nsx1, sy1 = 2, 3\nsx2, sy2 = 1.5, 0.5\n\n#matriks transformasi skala\nscale_matrix1 = scale_matrix(sx1, sy1)\nscale_matrix2 = scale_matrix(sx2, sy2)\n\n#penggabungan dua matriks transformasi skala dan refleksi terhadap sumbu x, y dan z\ncombined_scale_matrix = combine_scale_and_reflect(scale_matrix1, scale_matrix2)\ncombined_scale_matrix2 = combine_scale_and_reflect2(scale_matrix1, scale_matrix2)\ncombined_scale_matrix3 = combine_scale_and_reflect3(scale_matrix1, scale_matrix2)\n\n#vektor (x,y)\nvector = np.array([2, 3])\n\n#transformasi pada vektor\nresult_vector = apply_transformation(combined_scale_matrix, vector)\nresult_vector2 = apply_transformation(combined_scale_matrix2, vector)\nresult_vector3 = apply_transformation(combined_scale_matrix3, vector)\n\n#Output hasil transformasi\nprint(\"Vektor awal:\", vector)\nprint(\"Hasil transformasi skala dan refleksi terhadap sumbu x:\", result_vector)\nprint(\"Hasil transformasi skala dan refleksi terhadap sumbu x:\", result_vector2)\nprint(\"Hasil transformasi skala dan refleksi terhadap sumbu x:\", result_vector3)\n",
      "metadata": {
        "colab": {
          "base_uri": "https://localhost:8080/"
        },
        "id": "8XWoaIMOr_cF",
        "executionInfo": {
          "status": "ok",
          "timestamp": 1701278112370,
          "user_tz": -420,
          "elapsed": 2,
          "user": {
            "displayName": "Zahrah Asri Nur Fauzyah",
            "userId": "05370142287676326620"
          }
        },
        "outputId": "92dde51d-11f6-43ba-a655-9f55adf89a03",
        "trusted": true
      },
      "outputs": [],
      "execution_count": null
    },
    {
      "cell_type": "markdown",
      "source": "MATRIKS TRANSFORMASI KOMPOSIT ROTASI THD SUMBU X, Y DAN XY",
      "metadata": {
        "id": "lPW1QvuaFl1I"
      }
    },
    {
      "cell_type": "code",
      "source": "import numpy as np\n\ndef rotation_matrix(theta):\n    \"\"\"\n    Mengembalikan matriks transformasi untuk rotasi.\n    \"\"\"\n    cos_theta = np.cos(theta)\n    sin_theta = np.sin(theta)\n    return np.array([\n        [cos_theta, -sin_theta, 0],\n        [sin_theta, cos_theta, 0],\n        [0, 0, 1]\n    ])\n\ndef reflection_matrix_x():\n    \"\"\"\n    Mengembalikan matriks transformasi untuk refleksi terhadap sumbu x.\n    \"\"\"\n    return np.array([\n        [1, 0, 0],\n        [0, -1, 0],\n        [0, 0, 1]\n    ])\n\ndef combine_rotation_and_reflect(rotation_matrix1, rotation_matrix2):\n    \"\"\"\n    Menggabungkan dua matriks transformasi rotasi dan kemudian merefleksikannya terhadap sumbu x.\n    \"\"\"\n    combined_matrix = np.dot(rotation_matrix2, rotation_matrix1)\n    reflection_matrix = reflection_matrix_x()\n    result_matrix = np.dot(reflection_matrix, combined_matrix)\n    return result_matrix\n\ndef apply_transformation(matrix, vector):\n    \"\"\"\n    Mengalikan matriks transformasi dengan vektor.\n    \"\"\"\n    # Menambahkan koordinat homogen ke vektor\n    vector_homogeneous = np.append(vector, 1)\n\n    # Melakukan perkalian matriks transformasi dengan vektor homogen\n    result_homogeneous = np.dot(matrix, vector_homogeneous)\n\n    # Menghapus koordinat homogen dari hasil\n    result_vector = result_homogeneous[:-1]\n\n    return result_vector\n\n# Contoh penggunaan:\n# Tentukan sudut rotasi yang diinginkan (dalam radian)\ntheta1, theta2 = np.radians(30), np.radians(45)\n\n# Dapatkan matriks transformasi rotasi\nrotation_matrix1 = rotation_matrix(theta1)\nrotation_matrix2 = rotation_matrix(theta2)\n\n# Gabungkan dua matriks transformasi rotasi dan refleksi terhadap sumbu x\ncombined_rotation_matrix = combine_rotation_and_reflect(rotation_matrix1, rotation_matrix2)\n\n# Misalnya kita punya vektor [x, y]\nvector = np.array([2, 3])\n\n# Terapkan transformasi pada vektor\nresult_vector = apply_transformation(combined_rotation_matrix, vector)\n\n# Output hasil transformasi\nprint(\"Vektor awal:\", vector)\nprint(\"Hasil transformasi rotasi dan refleksi terhadap sumbu x:\", result_vector)\n",
      "metadata": {
        "colab": {
          "base_uri": "https://localhost:8080/"
        },
        "id": "uXIk4ju7F75E",
        "executionInfo": {
          "status": "ok",
          "timestamp": 1701278376351,
          "user_tz": -420,
          "elapsed": 469,
          "user": {
            "displayName": "Zahrah Asri Nur Fauzyah",
            "userId": "05370142287676326620"
          }
        },
        "outputId": "f25e53df-e584-4340-c6f7-f40dfcec8791",
        "trusted": true
      },
      "outputs": [
        {
          "name": "stdout",
          "text": "Vektor awal: [2 3]\nHasil transformasi rotasi dan refleksi terhadap sumbu x: [-2.38013939 -2.70830879]\n",
          "output_type": "stream"
        }
      ],
      "execution_count": 1
    }
  ]
}